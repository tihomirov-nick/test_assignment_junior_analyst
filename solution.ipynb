{
 "cells": [
  {
   "cell_type": "markdown",
   "id": "953899db-22ae-474b-9ff4-df069f2b34f1",
   "metadata": {},
   "source": [
    "## Техническое задание"
   ]
  },
  {
   "cell_type": "markdown",
   "id": "b721910a-4c9b-47d1-a399-f8cc408e20b7",
   "metadata": {},
   "source": [
    "### Загрузка и просмотр данных датасета"
   ]
  },
  {
   "cell_type": "code",
   "execution_count": 5,
   "id": "8bc8f9a2-e4bb-40f0-9ece-604be2035d5a",
   "metadata": {},
   "outputs": [],
   "source": [
    "import pandas as pd\n",
    "df = pd.read_excel(\"data.xlsx\")"
   ]
  },
  {
   "cell_type": "code",
   "execution_count": 6,
   "id": "e29033b5-7a8a-47fb-97ba-864fb89ef250",
   "metadata": {},
   "outputs": [
    {
     "name": "stdout",
     "output_type": "stream",
     "text": [
      "<class 'pandas.core.frame.DataFrame'>\n",
      "RangeIndex: 730 entries, 0 to 729\n",
      "Data columns (total 8 columns):\n",
      " #   Column          Non-Null Count  Dtype  \n",
      "---  ------          --------------  -----  \n",
      " 0   client_id       724 non-null    float64\n",
      " 1   sum             724 non-null    float64\n",
      " 2   status          730 non-null    object \n",
      " 3   sale            724 non-null    object \n",
      " 4   new/current     724 non-null    object \n",
      " 5   Unnamed: 5      0 non-null      float64\n",
      " 6   document        709 non-null    object \n",
      " 7   receiving_date  607 non-null    object \n",
      "dtypes: float64(3), object(5)\n",
      "memory usage: 45.8+ KB\n"
     ]
    }
   ],
   "source": [
    "df.info()"
   ]
  },
  {
   "cell_type": "code",
   "execution_count": 7,
   "id": "3addef24-24fe-47cd-b674-fe89d496e274",
   "metadata": {},
   "outputs": [
    {
     "data": {
      "text/html": [
       "<div>\n",
       "<style scoped>\n",
       "    .dataframe tbody tr th:only-of-type {\n",
       "        vertical-align: middle;\n",
       "    }\n",
       "\n",
       "    .dataframe tbody tr th {\n",
       "        vertical-align: top;\n",
       "    }\n",
       "\n",
       "    .dataframe thead th {\n",
       "        text-align: right;\n",
       "    }\n",
       "</style>\n",
       "<table border=\"1\" class=\"dataframe\">\n",
       "  <thead>\n",
       "    <tr style=\"text-align: right;\">\n",
       "      <th></th>\n",
       "      <th>client_id</th>\n",
       "      <th>sum</th>\n",
       "      <th>status</th>\n",
       "      <th>sale</th>\n",
       "      <th>new/current</th>\n",
       "      <th>Unnamed: 5</th>\n",
       "      <th>document</th>\n",
       "      <th>receiving_date</th>\n",
       "    </tr>\n",
       "  </thead>\n",
       "  <tbody>\n",
       "    <tr>\n",
       "      <th>0</th>\n",
       "      <td>NaN</td>\n",
       "      <td>NaN</td>\n",
       "      <td>Май 2021</td>\n",
       "      <td>NaN</td>\n",
       "      <td>NaN</td>\n",
       "      <td>NaN</td>\n",
       "      <td>NaN</td>\n",
       "      <td>NaN</td>\n",
       "    </tr>\n",
       "    <tr>\n",
       "      <th>1</th>\n",
       "      <td>6.0</td>\n",
       "      <td>11693.7</td>\n",
       "      <td>ВНУТРЕННИЙ</td>\n",
       "      <td>-</td>\n",
       "      <td>-</td>\n",
       "      <td>NaN</td>\n",
       "      <td>-</td>\n",
       "      <td>-</td>\n",
       "    </tr>\n",
       "    <tr>\n",
       "      <th>2</th>\n",
       "      <td>14.0</td>\n",
       "      <td>5452.7</td>\n",
       "      <td>ОПЛАЧЕНО</td>\n",
       "      <td>Петрова</td>\n",
       "      <td>новая</td>\n",
       "      <td>NaN</td>\n",
       "      <td>оригинал</td>\n",
       "      <td>2021-07-26 00:00:00</td>\n",
       "    </tr>\n",
       "  </tbody>\n",
       "</table>\n",
       "</div>"
      ],
      "text/plain": [
       "   client_id      sum      status     sale new/current  Unnamed: 5  document  \\\n",
       "0        NaN      NaN    Май 2021      NaN         NaN         NaN       NaN   \n",
       "1        6.0  11693.7  ВНУТРЕННИЙ        -           -         NaN         -   \n",
       "2       14.0   5452.7    ОПЛАЧЕНО  Петрова       новая         NaN  оригинал   \n",
       "\n",
       "        receiving_date  \n",
       "0                  NaN  \n",
       "1                    -  \n",
       "2  2021-07-26 00:00:00  "
      ]
     },
     "execution_count": 7,
     "metadata": {},
     "output_type": "execute_result"
    }
   ],
   "source": [
    "df.head(3)"
   ]
  },
  {
   "cell_type": "markdown",
   "id": "cebe24dd",
   "metadata": {},
   "source": [
    "### Предобработка данных"
   ]
  },
  {
   "cell_type": "code",
   "execution_count": 8,
   "id": "2679439d-b689-4a4c-8223-e0954be7fade",
   "metadata": {},
   "outputs": [],
   "source": [
    "df = df.drop('Unnamed: 5', axis=1)"
   ]
  },
  {
   "cell_type": "code",
   "execution_count": 9,
   "id": "d41f392f-f700-4266-bd85-9b7dbe1d26bc",
   "metadata": {},
   "outputs": [],
   "source": [
    "df = df.drop_duplicates().reset_index(drop=True)"
   ]
  },
  {
   "cell_type": "markdown",
   "id": "cacbdc78",
   "metadata": {},
   "source": [
    "Было принято решение удалить все строки, дата в которых неопределена, поскольку большая часть запросов к получению информации из датасета завязаны именно на этом параметре"
   ]
  },
  {
   "cell_type": "code",
   "execution_count": 10,
   "id": "106cc1f2",
   "metadata": {},
   "outputs": [],
   "source": [
    "df = df[(df['receiving_date'] != '-') & (df['receiving_date'].notnull())]"
   ]
  },
  {
   "cell_type": "markdown",
   "id": "5a751a46",
   "metadata": {},
   "source": [
    "### Обработка пропусков"
   ]
  },
  {
   "cell_type": "code",
   "execution_count": 11,
   "id": "46250319",
   "metadata": {},
   "outputs": [],
   "source": [
    "df['client_id'] = df['client_id'].dropna().astype('int')"
   ]
  },
  {
   "cell_type": "code",
   "execution_count": 12,
   "id": "bcfba18f",
   "metadata": {},
   "outputs": [],
   "source": [
    "df['sale'] = df['sale'].fillna('-')"
   ]
  },
  {
   "cell_type": "code",
   "execution_count": 13,
   "id": "e4bf68c4-9c9d-4db3-99e3-c3a62d384041",
   "metadata": {},
   "outputs": [],
   "source": [
    "df['new/current'] = df['new/current'].fillna('-')"
   ]
  },
  {
   "cell_type": "code",
   "execution_count": 14,
   "id": "b1b273ab-7940-4ca7-8140-a83432e8934b",
   "metadata": {},
   "outputs": [],
   "source": [
    "df['document'] = df['document'].replace('НЕТ', None).fillna('-')\n",
    "df['document'] = df['document'].replace('-', False)\n",
    "df['document'] = df['document'].replace('оригинал', True)\n",
    "df['document'] = df['document'].astype('bool')"
   ]
  },
  {
   "cell_type": "code",
   "execution_count": 15,
   "id": "667cf299",
   "metadata": {},
   "outputs": [],
   "source": [
    "df['receiving_date'] = pd.to_datetime(df['receiving_date'])"
   ]
  },
  {
   "cell_type": "markdown",
   "id": "ccd3761c",
   "metadata": {},
   "source": [
    "### Вычислите общую выручку за июль 2021 по тем сделкам, приход денежных средств которых не просрочен."
   ]
  },
  {
   "cell_type": "code",
   "execution_count": 16,
   "id": "54020d17",
   "metadata": {},
   "outputs": [
    {
     "name": "stdout",
     "output_type": "stream",
     "text": [
      "Общая выручка за июль 2021 по тем сделкам, приход денежных средств которых не просрочен составила 729541.14\n"
     ]
    }
   ],
   "source": [
    "july_data = df[(df[\"status\"] != \"ПРОСРОЧЕНО\") & (df[\"receiving_date\"].dt.month == 7)]\n",
    "july_revenue = july_data[\"sum\"].sum()\n",
    "\n",
    "print(f\"Общая выручка за июль 2021 по тем сделкам, приход денежных средств которых не просрочен составила {(july_revenue).round(2)}\")"
   ]
  },
  {
   "cell_type": "markdown",
   "id": "b5f84e03",
   "metadata": {},
   "source": [
    "### Как изменялась выручка компании за рассматриваемый период? Проиллюстрируйте графиком."
   ]
  },
  {
   "cell_type": "code",
   "execution_count": 17,
   "id": "a3ab96f7-22c0-4bce-ab9c-4018ffac3b17",
   "metadata": {},
   "outputs": [
    {
     "data": {
      "image/png": "[encoded data removed]",
      "text/plain": [
       "<Figure size 640x480 with 1 Axes>"
      ]
     },
     "metadata": {},
     "output_type": "display_data"
    }
   ],
   "source": [
    "import matplotlib.pyplot as plt\n",
    "\n",
    "monthly_data = df.groupby(df[\"receiving_date\"].dt.month)[\"sum\"].sum()\n",
    "\n",
    "plt.plot(monthly_data.index, monthly_data.values)\n",
    "plt.xlabel(\"Месяц\")\n",
    "plt.ylabel(\"Выручка\")\n",
    "plt.title(\"Статистика получения выручки\")\n",
    "plt.grid(color='gray', linestyle='--', linewidth=0.5)\n",
    "\n",
    "plt.show()\n"
   ]
  },
  {
   "cell_type": "markdown",
   "id": "d28f82b5",
   "metadata": {},
   "source": [
    "### Кто из менеджеров привлек для компании больше всего денежных средств в сентябре 2021?"
   ]
  },
  {
   "cell_type": "code",
   "execution_count": 18,
   "id": "3e083211",
   "metadata": {},
   "outputs": [
    {
     "name": "stdout",
     "output_type": "stream",
     "text": [
      "Лучший менеджер за сентябрь 2021 - Петрова, принес 189848.62\n"
     ]
    }
   ],
   "source": [
    "september_data = df[(df[\"status\"] == \"ОПЛАЧЕНО\") & (df[\"receiving_date\"].dt.month == 9)]\n",
    "september_sales = september_data.groupby(\"sale\")[\"sum\"].sum()\n",
    "max_revenue = september_sales.max()\n",
    "best_manager = september_sales.idxmax()\n",
    "\n",
    "print(f\"Лучший менеджер за сентябрь 2021 - {best_manager}, принес {max_revenue}\")"
   ]
  },
  {
   "cell_type": "markdown",
   "id": "f71e0ec0",
   "metadata": {},
   "source": [
    "### Какой тип сделок (новая/текущая) был преобладающим в октябре 2021?"
   ]
  },
  {
   "cell_type": "code",
   "execution_count": 19,
   "id": "294cf60d",
   "metadata": {},
   "outputs": [
    {
     "name": "stdout",
     "output_type": "stream",
     "text": [
      "Преобладающим типом сделок в октябре 2021 стал \"текущая\", всего 99 сделок\n"
     ]
    }
   ],
   "source": [
    "october_data = df[df[\"receiving_date\"].dt.month == 10]\n",
    "october_deals = october_data[\"new/current\"].value_counts()\n",
    "max_count = october_deals.max()\n",
    "dominant_type = october_deals.idxmax()\n",
    "\n",
    "print(f'Преобладающим типом сделок в октябре 2021 стал \"{dominant_type}\", всего {max_count} сделок')"
   ]
  },
  {
   "cell_type": "markdown",
   "id": "ea41b338",
   "metadata": {},
   "source": [
    "### Сколько оригиналов договора по майским сделкам было получено в июне 2021?"
   ]
  },
  {
   "cell_type": "markdown",
   "id": "38f41f8e",
   "metadata": {},
   "source": [
    "На данный вопрос из данных ответ получить я не смог, поскольку в данных нет информации о дате проведения самой сделки, только о получении договора, но примерный код получения этих данных пог бы выглядеть так:"
   ]
  },
  {
   "cell_type": "code",
   "execution_count": null,
   "id": "5100f5b2",
   "metadata": {},
   "outputs": [],
   "source": [
    "# Получаем данные о договорах, полученных в июне\n",
    "june_data = df[df[\"receiving_date\"].dt.month == 6]\n",
    "# Получаем данные о договорах, полученных в июне, где есть оригинал договора\n",
    "june_contracts = june_data[june_data[\"document\"] == True]\n",
    "# Получаем данные о сделках, проведенных в мае\n",
    "may_contracts = june_contracts[june_contracts[\"contract_receiving_date\"].dt.month == 5].shape[0]"
   ]
  },
  {
   "cell_type": "markdown",
   "id": "a99fd8da",
   "metadata": {},
   "source": [
    "### Задание:\n",
    "За каждую заключенную сделку менеджер получает бонус, который рассчитывается следующим образом.\n",
    "\n",
    "1. За новые сделки менеджер получает 7 % от суммы, при условии, что статус оплаты «ОПЛАЧЕНО», а также имеется оригинал подписанного договора с клиентом (в рассматриваемом месяце).\n",
    "2. За текущие сделки менеджер получает 5 % от суммы, если она больше 10 тыс., и 3 % от суммы, если меньше. При этом статус оплаты может быть любым, кроме «ПРОСРОЧЕНО», а также необходимо наличие оригинала подписанного договора с клиентом (в рассматриваемом месяце).\n",
    "\n",
    "Бонусы по сделкам, оригиналы для которых приходят позже рассматриваемого месяца, считаются остатком на следующий период, который выплачивается по мере\n",
    "прихода оригиналов. Вычислите остаток каждого из менеджеров на 01.07.2021."
   ]
  },
  {
   "cell_type": "code",
   "execution_count": 21,
   "id": "af4bb3b0",
   "metadata": {},
   "outputs": [
    {
     "name": "stdout",
     "output_type": "stream",
     "text": [
      "sale\n",
      "Андреев       4701.7537\n",
      "Васильев       339.2310\n",
      "Иванов        2716.5000\n",
      "Кузнецова     2604.6716\n",
      "Михайлов         0.0000\n",
      "Петрова       7028.8020\n",
      "Селиванов      353.3220\n",
      "Смирнов       4219.5170\n",
      "Соколов          0.0000\n",
      "Филимонова     409.6830\n",
      "Name: bonus, dtype: float64\n"
     ]
    }
   ],
   "source": [
    "def bonus(deal_type, deal_sum, status, document, date):\n",
    "    if date > pd.to_datetime('2021-07-01'):\n",
    "        return 0\n",
    "    if deal_type == \"новая\" and status == \"ОПЛАЧЕНО\" and document == True:\n",
    "        return deal_sum * 0.07\n",
    "    elif deal_type == \"текущая\" and status != \"ПРОСРОЧЕНО\" and document == True:\n",
    "        if deal_sum > 10000:\n",
    "            return deal_sum * 0.05\n",
    "        else:\n",
    "            return deal_sum * 0.03\n",
    "    else:\n",
    "        return 0\n",
    "    \n",
    "df[\"bonus\"] = df.apply(lambda row: bonus(row[\"new/current\"], row[\"sum\"], row[\"status\"], row[\"document\"], row['receiving_date']), axis=1)\n",
    "\n",
    "manager_bonus = df.groupby(\"sale\")[\"bonus\"].sum()\n",
    "\n",
    "print(manager_bonus)\n"
   ]
  }
 ],
 "metadata": {
  "kernelspec": {
   "display_name": "Python 3 (ipykernel)",
   "language": "python",
   "name": "python3"
  },
  "language_info": {
   "codemirror_mode": {
    "name": "ipython",
    "version": 3
   },
   "file_extension": ".py",
   "mimetype": "text/x-python",
   "name": "python",
   "nbconvert_exporter": "python",
   "pygments_lexer": "ipython3",
   "version": "3.11.3"
  }
 },
 "nbformat": 4,
 "nbformat_minor": 5
}
